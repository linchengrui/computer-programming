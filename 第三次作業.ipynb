{
 "cells": [
  {
   "cell_type": "code",
   "execution_count": 1,
   "metadata": {},
   "outputs": [],
   "source": [
    "%matplotlib inline\n",
    "\n",
    "import numpy as np\n",
    "import matplotlib.pyplot as plt"
   ]
  },
  {
   "cell_type": "markdown",
   "metadata": {},
   "source": [
    "# 1.讀入Fashion MNIST 數據集"
   ]
  },
  {
   "cell_type": "code",
   "execution_count": 2,
   "metadata": {},
   "outputs": [],
   "source": [
    "from tensorflow.keras.datasets import fashion_mnist"
   ]
  },
  {
   "cell_type": "code",
   "execution_count": 3,
   "metadata": {},
   "outputs": [
    {
     "name": "stdout",
     "output_type": "stream",
     "text": [
      "Downloading data from https://storage.googleapis.com/tensorflow/tf-keras-datasets/train-labels-idx1-ubyte.gz\n",
      "32768/29515 [=================================] - 0s 2us/step\n",
      "Downloading data from https://storage.googleapis.com/tensorflow/tf-keras-datasets/train-images-idx3-ubyte.gz\n",
      "26427392/26421880 [==============================] - 11s 0us/step\n",
      "Downloading data from https://storage.googleapis.com/tensorflow/tf-keras-datasets/t10k-labels-idx1-ubyte.gz\n",
      "8192/5148 [===============================================] - 0s 0us/step\n",
      "Downloading data from https://storage.googleapis.com/tensorflow/tf-keras-datasets/t10k-images-idx3-ubyte.gz\n",
      "4423680/4422102 [==============================] - 2s 0us/step\n"
     ]
    }
   ],
   "source": [
    "(x_train, y_train), (x_test, y_test) = fashion_mnist.load_data()"
   ]
  },
  {
   "cell_type": "markdown",
   "metadata": {},
   "source": [
    "# 2.欣賞數據集內容"
   ]
  },
  {
   "cell_type": "code",
   "execution_count": 4,
   "metadata": {},
   "outputs": [],
   "source": [
    "class_names = ['T-shirt/top','Trouser','Pullover', 'Dress', 'Coat',\n",
    "               'Sandal', 'Shirt', 'Sneaker', 'Bag', 'Ankle boot']"
   ]
  },
  {
   "cell_type": "code",
   "execution_count": 8,
   "metadata": {},
   "outputs": [
    {
     "name": "stdout",
     "output_type": "stream",
     "text": [
      "這是 Sneaker\n"
     ]
    },
    {
     "data": {
      "text/plain": [
       "<matplotlib.image.AxesImage at 0x2245995f898>"
      ]
     },
     "execution_count": 8,
     "metadata": {},
     "output_type": "execute_result"
    },
    {
     "data": {
      "image/png": "[encoded data removed]",
      "text/plain": [
       "<Figure size 432x288 with 1 Axes>"
      ]
     },
     "metadata": {
      "needs_background": "light"
     },
     "output_type": "display_data"
    }
   ],
   "source": [
    "n = 153\n",
    "print(\"這是\", class_names[y_train[n]])\n",
    "plt.imshow(x_train[n], cmap = 'Greys')"
   ]
  },
  {
   "cell_type": "code",
   "execution_count": 17,
   "metadata": {},
   "outputs": [
    {
     "data": {
      "image/png": "[encoded data removed]",
      "text/plain": [
       "<Figure size 432x288 with 5 Axes>"
      ]
     },
     "metadata": {},
     "output_type": "display_data"
    }
   ],
   "source": [
    "pick = np.random.choice(60000, 5, replace=False)\n",
    "\n",
    "for i in range(5):\n",
    "    n = pick[i]\n",
    "    ax = plt.subplot(151+i)\n",
    "    ax.set_xticks([])\n",
    "    ax.set_yticks([])\n",
    "    ax.set_title(class_names[y_train[n]], fontsize=10)\n",
    "    plt.imshow(x_train[n], cmap = 'Greys')"
   ]
  },
  {
   "cell_type": "code",
   "execution_count": 19,
   "metadata": {},
   "outputs": [],
   "source": [
    "x_train = x_train/255\n",
    "x_test = x_test/255"
   ]
  },
  {
   "cell_type": "code",
   "execution_count": 20,
   "metadata": {},
   "outputs": [],
   "source": [
    "x_train = x_train.reshape(60000, 784)\n",
    "x_test = x_test.reshape(10000, 784)"
   ]
  },
  {
   "cell_type": "code",
   "execution_count": 21,
   "metadata": {},
   "outputs": [],
   "source": [
    "from tensorflow.keras.utils import to_categorical"
   ]
  },
  {
   "cell_type": "code",
   "execution_count": 22,
   "metadata": {},
   "outputs": [],
   "source": [
    "y_train = to_categorical(y_train, 10)\n",
    "y_test = to_categorical(y_test, 10)"
   ]
  },
  {
   "cell_type": "code",
   "execution_count": 23,
   "metadata": {},
   "outputs": [],
   "source": [
    "from tensorflow.keras.models import Sequential\n",
    "from tensorflow.keras.layers import Dense\n",
    "from tensorflow.keras.optimizers import SGD"
   ]
  },
  {
   "cell_type": "code",
   "execution_count": 24,
   "metadata": {},
   "outputs": [
    {
     "name": "stdout",
     "output_type": "stream",
     "text": [
      "WARNING:tensorflow:From C:\\Users\\user\\Anaconda3\\lib\\site-packages\\tensorflow\\python\\ops\\init_ops.py:1251: calling VarianceScaling.__init__ (from tensorflow.python.ops.init_ops) with dtype is deprecated and will be removed in a future version.\n",
      "Instructions for updating:\n",
      "Call initializer instance with the dtype argument instead of passing it to the constructor\n"
     ]
    }
   ],
   "source": [
    "model = Sequential()\n",
    "model.add(Dense(112, input_dim=784, activation='relu'))\n",
    "model.add(Dense(69, activation='relu'))\n",
    "model.add(Dense(10, activation='softmax'))\n"
   ]
  },
  {
   "cell_type": "code",
   "execution_count": 25,
   "metadata": {},
   "outputs": [],
   "source": [
    "model.compile(loss='mse', optimizer=SGD(lr=0.087), metrics=['accuracy'])"
   ]
  },
  {
   "cell_type": "code",
   "execution_count": 26,
   "metadata": {},
   "outputs": [
    {
     "name": "stdout",
     "output_type": "stream",
     "text": [
      "Model: \"sequential\"\n",
      "_________________________________________________________________\n",
      "Layer (type)                 Output Shape              Param #   \n",
      "=================================================================\n",
      "dense (Dense)                (None, 112)               87920     \n",
      "_________________________________________________________________\n",
      "dense_1 (Dense)              (None, 69)                7797      \n",
      "_________________________________________________________________\n",
      "dense_2 (Dense)              (None, 10)                700       \n",
      "=================================================================\n",
      "Total params: 96,417\n",
      "Trainable params: 96,417\n",
      "Non-trainable params: 0\n",
      "_________________________________________________________________\n"
     ]
    }
   ],
   "source": [
    "model.summary()"
   ]
  },
  {
   "cell_type": "code",
   "execution_count": 32,
   "metadata": {},
   "outputs": [
    {
     "name": "stdout",
     "output_type": "stream",
     "text": [
      "Epoch 1/25\n",
      "60000/60000 [==============================] - 2s 26us/sample - loss: 0.0207 - acc: 0.8608\n",
      "Epoch 2/25\n",
      "60000/60000 [==============================] - 1s 25us/sample - loss: 0.0205 - acc: 0.8622\n",
      "Epoch 3/25\n",
      "60000/60000 [==============================] - 2s 25us/sample - loss: 0.0204 - acc: 0.8622\n",
      "Epoch 4/25\n",
      "60000/60000 [==============================] - 1s 24us/sample - loss: 0.0202 - acc: 0.8637\n",
      "Epoch 5/25\n",
      "60000/60000 [==============================] - 1s 24us/sample - loss: 0.0201 - acc: 0.8646\n",
      "Epoch 6/25\n",
      "60000/60000 [==============================] - 1s 24us/sample - loss: 0.0200 - acc: 0.8653\n",
      "Epoch 7/25\n",
      "60000/60000 [==============================] - 1s 24us/sample - loss: 0.0199 - acc: 0.8654\n",
      "Epoch 8/25\n",
      "60000/60000 [==============================] - 1s 24us/sample - loss: 0.0197 - acc: 0.8674\n",
      "Epoch 9/25\n",
      "60000/60000 [==============================] - 2s 26us/sample - loss: 0.0196 - acc: 0.8675\n",
      "Epoch 10/25\n",
      "60000/60000 [==============================] - 1s 25us/sample - loss: 0.0195 - acc: 0.8694\n",
      "Epoch 11/25\n",
      "60000/60000 [==============================] - 1s 25us/sample - loss: 0.0194 - acc: 0.8693\n",
      "Epoch 12/25\n",
      "60000/60000 [==============================] - 1s 24us/sample - loss: 0.0193 - acc: 0.8698\n",
      "Epoch 13/25\n",
      "60000/60000 [==============================] - 2s 26us/sample - loss: 0.0193 - acc: 0.8697\n",
      "Epoch 14/25\n",
      "60000/60000 [==============================] - 1s 24us/sample - loss: 0.0191 - acc: 0.8718\n",
      "Epoch 15/25\n",
      "60000/60000 [==============================] - 2s 25us/sample - loss: 0.0190 - acc: 0.8717\n",
      "Epoch 16/25\n",
      "60000/60000 [==============================] - 2s 25us/sample - loss: 0.0189 - acc: 0.8728\n",
      "Epoch 17/25\n",
      "60000/60000 [==============================] - 1s 25us/sample - loss: 0.0188 - acc: 0.8730\n",
      "Epoch 18/25\n",
      "60000/60000 [==============================] - 1s 24us/sample - loss: 0.0188 - acc: 0.8738\n",
      "Epoch 19/25\n",
      "60000/60000 [==============================] - 1s 25us/sample - loss: 0.0187 - acc: 0.8749\n",
      "Epoch 20/25\n",
      "60000/60000 [==============================] - 1s 24us/sample - loss: 0.0186 - acc: 0.8755\n",
      "Epoch 21/25\n",
      "60000/60000 [==============================] - 1s 24us/sample - loss: 0.0185 - acc: 0.8766\n",
      "Epoch 22/25\n",
      "60000/60000 [==============================] - 2s 25us/sample - loss: 0.0184 - acc: 0.8759\n",
      "Epoch 23/25\n",
      "60000/60000 [==============================] - 2s 25us/sample - loss: 0.0183 - acc: 0.8773\n",
      "Epoch 24/25\n",
      "60000/60000 [==============================] - 1s 25us/sample - loss: 0.0182 - acc: 0.8778\n",
      "Epoch 25/25\n",
      "60000/60000 [==============================] - 1s 25us/sample - loss: 0.0181 - acc: 0.8786\n"
     ]
    }
   ],
   "source": [
    "train = model.fit(x_train, y_train, batch_size = 116, epochs=25)"
   ]
  },
  {
   "cell_type": "code",
   "execution_count": 33,
   "metadata": {},
   "outputs": [],
   "source": [
    "result = model.predict_classes(x_test)"
   ]
  },
  {
   "cell_type": "code",
   "execution_count": 34,
   "metadata": {},
   "outputs": [
    {
     "name": "stdout",
     "output_type": "stream",
     "text": [
      "神經網路預測是: Sandal\n"
     ]
    },
    {
     "data": {
      "text/plain": [
       "<matplotlib.image.AxesImage at 0x224590f15f8>"
      ]
     },
     "execution_count": 34,
     "metadata": {},
     "output_type": "execute_result"
    },
    {
     "data": {
      "image/png": "[encoded data removed]",
      "text/plain": [
       "<Figure size 432x288 with 1 Axes>"
      ]
     },
     "metadata": {
      "needs_background": "light"
     },
     "output_type": "display_data"
    }
   ],
   "source": [
    "n = 420\n",
    "\n",
    "print('神經網路預測是:',class_names[result[n]])\n",
    "plt.imshow(x_test[n].reshape(28, 28), cmap='Greys')"
   ]
  },
  {
   "cell_type": "code",
   "execution_count": null,
   "metadata": {},
   "outputs": [],
   "source": []
  },
  {
   "cell_type": "code",
   "execution_count": null,
   "metadata": {},
   "outputs": [],
   "source": []
  }
 ],
 "metadata": {
  "kernelspec": {
   "display_name": "Python 3",
   "language": "python",
   "name": "python3"
  },
  "language_info": {
   "codemirror_mode": {
    "name": "ipython",
    "version": 3
   },
   "file_extension": ".py",
   "mimetype": "text/x-python",
   "name": "python",
   "nbconvert_exporter": "python",
   "pygments_lexer": "ipython3",
   "version": "3.7.3"
  }
 },
 "nbformat": 4,
 "nbformat_minor": 2
}
