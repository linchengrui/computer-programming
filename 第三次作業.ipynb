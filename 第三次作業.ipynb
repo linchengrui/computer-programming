{
 "cells": [
  {
   "cell_type": "code",
   "execution_count": 67,
   "metadata": {},
   "outputs": [],
   "source": [
    "%matplotlib inline\n",
    "\n",
    "import numpy as np\n",
    "import matplotlib.pyplot as plt"
   ]
  },
  {
   "cell_type": "markdown",
   "metadata": {},
   "source": [
    "# 1.讀入Fashion MNIST 數據集"
   ]
  },
  {
   "cell_type": "code",
   "execution_count": 68,
   "metadata": {},
   "outputs": [],
   "source": [
    "from tensorflow.keras.datasets import fashion_mnist"
   ]
  },
  {
   "cell_type": "code",
   "execution_count": 69,
   "metadata": {},
   "outputs": [],
   "source": [
    "(x_train, y_train), (x_test, y_test) = fashion_mnist.load_data()"
   ]
  },
  {
   "cell_type": "markdown",
   "metadata": {},
   "source": [
    "# 2.欣賞數據集內容"
   ]
  },
  {
   "cell_type": "code",
   "execution_count": 70,
   "metadata": {},
   "outputs": [],
   "source": [
    "class_names = ['T-shirt/top','Trouser','Pullover', 'Dress', 'Coat',\n",
    "               'Sandal', 'Shirt', 'Sneaker', 'Bag', 'Ankle boot']"
   ]
  },
  {
   "cell_type": "code",
   "execution_count": 71,
   "metadata": {},
   "outputs": [
    {
     "name": "stdout",
     "output_type": "stream",
     "text": [
      "這是 Sneaker\n"
     ]
    },
    {
     "data": {
      "text/plain": [
       "<matplotlib.image.AxesImage at 0x224599e7c18>"
      ]
     },
     "execution_count": 71,
     "metadata": {},
     "output_type": "execute_result"
    },
    {
     "data": {
      "image/png": "[encoded data removed]",
      "text/plain": [
       "<Figure size 432x288 with 1 Axes>"
      ]
     },
     "metadata": {
      "needs_background": "light"
     },
     "output_type": "display_data"
    }
   ],
   "source": [
    "n = 153\n",
    "print(\"這是\", class_names[y_train[n]])\n",
    "plt.imshow(x_train[n], cmap = 'Greys')"
   ]
  },
  {
   "cell_type": "code",
   "execution_count": 72,
   "metadata": {},
   "outputs": [
    {
     "data": {
      "image/png": "[encoded data removed]",
      "text/plain": [
       "<Figure size 432x288 with 5 Axes>"
      ]
     },
     "metadata": {},
     "output_type": "display_data"
    }
   ],
   "source": [
    "pick = np.random.choice(60000, 5, replace=False)\n",
    "\n",
    "for i in range(5):\n",
    "    n = pick[i]\n",
    "    ax = plt.subplot(151+i)\n",
    "    ax.set_xticks([])\n",
    "    ax.set_yticks([])\n",
    "    ax.set_title(class_names[y_train[n]], fontsize=10)\n",
    "    plt.imshow(x_train[n], cmap = 'Greys')"
   ]
  },
  {
   "cell_type": "markdown",
   "metadata": {},
   "source": [
    "# 3.資料整理"
   ]
  },
  {
   "cell_type": "code",
   "execution_count": 73,
   "metadata": {},
   "outputs": [],
   "source": [
    "x_train = x_train/255\n",
    "x_test = x_test/255"
   ]
  },
  {
   "cell_type": "code",
   "execution_count": 74,
   "metadata": {},
   "outputs": [],
   "source": [
    "x_train = x_train.reshape(60000, 784)\n",
    "x_test = x_test.reshape(10000, 784)"
   ]
  },
  {
   "cell_type": "code",
   "execution_count": 75,
   "metadata": {},
   "outputs": [],
   "source": [
    "from tensorflow.keras.utils import to_categorical"
   ]
  },
  {
   "cell_type": "code",
   "execution_count": 76,
   "metadata": {},
   "outputs": [],
   "source": [
    "y_train = to_categorical(y_train, 10)\n",
    "y_test = to_categorical(y_test, 10)"
   ]
  },
  {
   "cell_type": "markdown",
   "metadata": {},
   "source": [
    "# 打造神經網路"
   ]
  },
  {
   "cell_type": "code",
   "execution_count": 77,
   "metadata": {},
   "outputs": [],
   "source": [
    "from tensorflow.keras.models import Sequential\n",
    "from tensorflow.keras.layers import Dense\n",
    "from tensorflow.keras.optimizers import SGD"
   ]
  },
  {
   "cell_type": "markdown",
   "metadata": {},
   "source": [
    "#### 改變了神經元的數量，分別為112、69、10，輸入是784維，總共3層"
   ]
  },
  {
   "cell_type": "code",
   "execution_count": 78,
   "metadata": {},
   "outputs": [],
   "source": [
    "model = Sequential()\n",
    "model.add(Dense(112, input_dim=784, activation='relu'))\n",
    "model.add(Dense(69, activation='relu'))\n",
    "model.add(Dense(10, activation='softmax'))\n"
   ]
  },
  {
   "cell_type": "markdown",
   "metadata": {},
   "source": [
    "# 4. 組裝神經網路"
   ]
  },
  {
   "cell_type": "code",
   "execution_count": 79,
   "metadata": {},
   "outputs": [],
   "source": [
    "model.compile(loss='mse', optimizer=SGD(lr=0.087), metrics=['accuracy'])"
   ]
  },
  {
   "cell_type": "code",
   "execution_count": 80,
   "metadata": {},
   "outputs": [
    {
     "name": "stdout",
     "output_type": "stream",
     "text": [
      "Model: \"sequential_2\"\n",
      "_________________________________________________________________\n",
      "Layer (type)                 Output Shape              Param #   \n",
      "=================================================================\n",
      "dense_6 (Dense)              (None, 112)               87920     \n",
      "_________________________________________________________________\n",
      "dense_7 (Dense)              (None, 69)                7797      \n",
      "_________________________________________________________________\n",
      "dense_8 (Dense)              (None, 10)                700       \n",
      "=================================================================\n",
      "Total params: 96,417\n",
      "Trainable params: 96,417\n",
      "Non-trainable params: 0\n",
      "_________________________________________________________________\n"
     ]
    }
   ],
   "source": [
    "model.summary()"
   ]
  },
  {
   "cell_type": "markdown",
   "metadata": {},
   "source": [
    "# 5.訓練\n",
    "\n",
    "### 改變了batch_size，做40題檢查一次，改成做30次"
   ]
  },
  {
   "cell_type": "code",
   "execution_count": 84,
   "metadata": {},
   "outputs": [
    {
     "name": "stdout",
     "output_type": "stream",
     "text": [
      "Epoch 1/30\n",
      "60000/60000 [==============================] - 5s 87us/sample - loss: 0.0147 - acc: 0.9032\n",
      "Epoch 2/30\n",
      "60000/60000 [==============================] - 5s 88us/sample - loss: 0.0146 - acc: 0.9034\n",
      "Epoch 3/30\n",
      "60000/60000 [==============================] - 5s 87us/sample - loss: 0.0145 - acc: 0.9039\n",
      "Epoch 4/30\n",
      "60000/60000 [==============================] - 9s 145us/sample - loss: 0.0144 - acc: 0.9054\n",
      "Epoch 5/30\n",
      "60000/60000 [==============================] - 11s 175us/sample - loss: 0.0143 - acc: 0.9063\n",
      "Epoch 6/30\n",
      "60000/60000 [==============================] - 11s 176us/sample - loss: 0.0143 - acc: 0.9065\n",
      "Epoch 7/30\n",
      "60000/60000 [==============================] - 11s 179us/sample - loss: 0.0142 - acc: 0.9072\n",
      "Epoch 8/30\n",
      "60000/60000 [==============================] - 11s 177us/sample - loss: 0.0141 - acc: 0.9075\n",
      "Epoch 9/30\n",
      "60000/60000 [==============================] - 11s 179us/sample - loss: 0.0140 - acc: 0.9085\n",
      "Epoch 10/30\n",
      "60000/60000 [==============================] - 9s 157us/sample - loss: 0.0139 - acc: 0.9096\n",
      "Epoch 11/30\n",
      "60000/60000 [==============================] - 11s 176us/sample - loss: 0.0138 - acc: 0.9095\n",
      "Epoch 12/30\n",
      "60000/60000 [==============================] - 7s 120us/sample - loss: 0.0137 - acc: 0.9101\n",
      "Epoch 13/30\n",
      "60000/60000 [==============================] - 5s 89us/sample - loss: 0.0137 - acc: 0.9112\n",
      "Epoch 14/30\n",
      "60000/60000 [==============================] - 5s 90us/sample - loss: 0.0136 - acc: 0.9114\n",
      "Epoch 15/30\n",
      "60000/60000 [==============================] - 8s 128us/sample - loss: 0.0135 - acc: 0.9130\n",
      "Epoch 16/30\n",
      "60000/60000 [==============================] - 11s 181us/sample - loss: 0.0134 - acc: 0.9135\n",
      "Epoch 17/30\n",
      "60000/60000 [==============================] - 11s 180us/sample - loss: 0.0133 - acc: 0.9138\n",
      "Epoch 18/30\n",
      "60000/60000 [==============================] - 10s 174us/sample - loss: 0.0133 - acc: 0.9142\n",
      "Epoch 19/30\n",
      "60000/60000 [==============================] - 11s 179us/sample - loss: 0.0132 - acc: 0.9145\n",
      "Epoch 20/30\n",
      "60000/60000 [==============================] - 11s 182us/sample - loss: 0.0131 - acc: 0.9157\n",
      "Epoch 21/30\n",
      "60000/60000 [==============================] - 11s 182us/sample - loss: 0.0131 - acc: 0.9158\n",
      "Epoch 22/30\n",
      "60000/60000 [==============================] - 11s 181us/sample - loss: 0.0130 - acc: 0.9165\n",
      "Epoch 23/30\n",
      "60000/60000 [==============================] - 7s 111us/sample - loss: 0.0129 - acc: 0.9167\n",
      "Epoch 24/30\n",
      "60000/60000 [==============================] - 7s 110us/sample - loss: 0.0129 - acc: 0.9180\n",
      "Epoch 25/30\n",
      "60000/60000 [==============================] - 7s 110us/sample - loss: 0.0128 - acc: 0.9182\n",
      "Epoch 26/30\n",
      "60000/60000 [==============================] - 11s 182us/sample - loss: 0.0127 - acc: 0.9189\n",
      "Epoch 27/30\n",
      "60000/60000 [==============================] - 11s 182us/sample - loss: 0.0126 - acc: 0.9195\n",
      "Epoch 28/30\n",
      "60000/60000 [==============================] - 10s 160us/sample - loss: 0.0126 - acc: 0.9194\n",
      "Epoch 29/30\n",
      "60000/60000 [==============================] - 11s 185us/sample - loss: 0.0125 - acc: 0.9202\n",
      "Epoch 30/30\n",
      "60000/60000 [==============================] - 11s 182us/sample - loss: 0.0125 - acc: 0.9204\n"
     ]
    }
   ],
   "source": [
    "train = model.fit(x_train, y_train, batch_size = 40, epochs=30)"
   ]
  },
  {
   "cell_type": "markdown",
   "metadata": {},
   "source": [
    "### 正確率:92%"
   ]
  },
  {
   "cell_type": "markdown",
   "metadata": {},
   "source": [
    "# 6. 訓練成果"
   ]
  },
  {
   "cell_type": "code",
   "execution_count": 82,
   "metadata": {},
   "outputs": [],
   "source": [
    "result = model.predict_classes(x_test)"
   ]
  },
  {
   "cell_type": "code",
   "execution_count": 83,
   "metadata": {},
   "outputs": [
    {
     "name": "stdout",
     "output_type": "stream",
     "text": [
      "神經網路預測是: Sandal\n"
     ]
    },
    {
     "data": {
      "text/plain": [
       "<matplotlib.image.AxesImage at 0x22459f1ee48>"
      ]
     },
     "execution_count": 83,
     "metadata": {},
     "output_type": "execute_result"
    },
    {
     "data": {
      "image/png": "[encoded data removed]",
      "text/plain": [
       "<Figure size 432x288 with 1 Axes>"
      ]
     },
     "metadata": {
      "needs_background": "light"
     },
     "output_type": "display_data"
    }
   ],
   "source": [
    "n = 420\n",
    "\n",
    "print('神經網路預測是:',class_names[result[n]])\n",
    "plt.imshow(x_test[n].reshape(28, 28), cmap='Greys')"
   ]
  },
  {
   "cell_type": "code",
   "execution_count": null,
   "metadata": {},
   "outputs": [],
   "source": []
  },
  {
   "cell_type": "code",
   "execution_count": null,
   "metadata": {},
   "outputs": [],
   "source": []
  }
 ],
 "metadata": {
  "kernelspec": {
   "display_name": "Python 3",
   "language": "python",
   "name": "python3"
  },
  "language_info": {
   "codemirror_mode": {
    "name": "ipython",
    "version": 3
   },
   "file_extension": ".py",
   "mimetype": "text/x-python",
   "name": "python",
   "nbconvert_exporter": "python",
   "pygments_lexer": "ipython3",
   "version": "3.7.3"
  }
 },
 "nbformat": 4,
 "nbformat_minor": 2
}
